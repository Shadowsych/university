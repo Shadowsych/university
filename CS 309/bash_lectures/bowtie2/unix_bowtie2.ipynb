{
 "cells": [
  {
   "cell_type": "markdown",
   "metadata": {},
   "source": [
    "#### Always remember where you are, on a Unix environment! Always use tab to complete file names. If the file is in the current directory, tab will do auto complete.\n",
    "\n",
    "ls - list the contents of the current directory\n",
    "\n",
    "pwd - print the present working directory  - tells you where you are currently. The format is something like /home/myID - just like on most computer systems, this represents leaves on the tree of the file system structure, also called a \"path\"."
   ]
  },
  {
   "cell_type": "code",
   "execution_count": null,
   "metadata": {},
   "outputs": [],
   "source": [
    "%%bash\n",
    "pwd"
   ]
  },
  {
   "cell_type": "markdown",
   "metadata": {},
   "source": [
    "#### You can move from one directory to another using cd command\n",
    "cd <whereto> - change the present working directory to <whereto>  You will need to provide a path like /work/myID to change to that directory.\n",
    "\n",
    "Some special <wheretos>: .. (period, period) means \"up one level\".   . means current directory. ~ (tilde) means \"my home directory\". ~myfriend (tilde \"myfriend) means \"myfriend's home directory\"."
   ]
  },
  {
   "cell_type": "code",
   "execution_count": null,
   "metadata": {},
   "outputs": [],
   "source": [
    "%%bash\n",
    "# Lets change to directory one level above\n",
    "# cd /stor/home/pb24578/bash_lectures/unix_bowtie2\n",
    "\n",
    "# Lets do the same thing by using a shortcut\n",
    "# cd ..\n",
    "\n",
    "# Lets change to home directory\n",
    "# cd /stor/home\n",
    "\n",
    "# Lets change to work directory\n",
    "# cd pb24578/bash_lectures/unix_bowtie2"
   ]
  },
  {
   "cell_type": "markdown",
   "metadata": {},
   "source": [
    "#### Copying files from one directory to another\n",
    "cp <source> <destination> copies the file source to the location and/or file name destination. Using . (period) means \"here, with the same name\". * cp -r <dirname> <destination> will recursively copy the directory dirname and all its contents to the directory destination.\n",
    "\n",
    "ln -s <source> <destination> makes a link of the file source to the location and/or file name destination, without making a physical copy. Using . (period) means \"here, with the same name\". "
   ]
  },
  {
   "cell_type": "code",
   "execution_count": null,
   "metadata": {},
   "outputs": [],
   "source": [
    "%%bash \n",
    "# First make a directory in work to do all this work\n",
    "# cd /stor/home/pb24578/bash_lectures/unix_bowtie2\n",
    "# mkdir ALS_rnaseq\n",
    "# cd ALS_rnaseq\n",
    "\n",
    "# copy over the fastq files you are interested in\n",
    "# cp /stor/home/da9488/ps3_materials/ALS_data_fastq_small/SRR1927019_*.fq .\n",
    "\n",
    "# symbolic link the reference files.\n",
    "# ln -s /stor/home/da9488/ps3_materials/hg19_reference/Homo_sapiens.GRCh37.60.dna.fasta .\n",
    "# ln -s /stor/home/da9488/ps3_materials/hg19_reference/gencode.v19.pc_transcripts.fa .\n",
    "\n",
    "# lets check where we are and what is there\n",
    "# pwd\n",
    "# ls"
   ]
  },
  {
   "cell_type": "code",
   "execution_count": null,
   "metadata": {},
   "outputs": [],
   "source": [
    "%%bash\n",
    "# cd /stor/home/pb24578/bash_lectures/unix_bowtie2/ALS_rnaseq\n",
    "# head SRR1927019_1_sampled.fq # read the beginning of the fastq file\n",
    "# wc -l SRR1927019_1_sampled.fq # the number of lines in the fastq file"
   ]
  },
  {
   "cell_type": "code",
   "execution_count": null,
   "metadata": {},
   "outputs": [],
   "source": [
    "%%bash\n",
    "# cd /stor/home/pb24578/bash_lectures/unix_bowtie2/ALS_rnaseq\n",
    "# head Homo_sapiens.GRCh37.60.dna.fasta # read the beginning of the fasta file\n",
    "# grep '>chr' Homo_sapiens.GRCh37.60.dna.fasta # get each occurrence of \"chr\" in the fasta file"
   ]
  },
  {
   "cell_type": "markdown",
   "metadata": {},
   "source": [
    "#### So many options...\n",
    "When running scripts and commandline tools, all the inputs you provide to it are called arguments or parameters or options.  Each tool/script can be a little different in how it takes its arguments. But typically, they follow one of these structures.\n",
    "\n",
    "    command <options>  inputfile > outputfile\n",
    "    command  -option1 value1 -option2 value2 -option3 inputfile > outputfile\n",
    "\n",
    "    option1 and option2 are types that take a value.\n",
    "    option3 is a flag, so it does not take a value.\n",
    "\n",
    "    Example: blastp -query scaffolds.fasta -db TAIR10_pep_20101214 -eval 0.0001 -outfmt 6 -out blastp.out\n",
    "\n",
    "If you need to find out the options for a command, try any of these (again each tool is different):\n",
    "\n",
    "    command -h\n",
    "    command --h\n",
    "    command -help\n",
    "    command"
   ]
  },
  {
   "cell_type": "markdown",
   "metadata": {},
   "source": [
    "#### nohup and &\n",
    "Adding nohup at the beginning of the command and & at the end of the command is a good idea when running things that will take a while.\n",
    "\n",
    "nohup allows the process to run even if your session ends or your connection with the server hangups. Output that would normally go to the terminal goes to a file called nohup.out if it has not already been redirected.\n",
    "\n",
    "& allows the process to run in the background so you can continue to run other things on the terminal."
   ]
  },
  {
   "cell_type": "markdown",
   "metadata": {},
   "source": [
    "### Use the bowtie mapper tool to map the fastq files to the reference.\n",
    "There are two steps to using most mappers: 1. Making an index of the reference genome or transcriptome.  2. Mapping each fastq file to the index generated above. Typically, there are seperate commands for doing each step.\n",
    "\n",
    "You cannot do step 2 till step 1 is completed.\n",
    "You will need to create an index only once.\n",
    "The indexing step will take several hours. The mapping will take less time, but at leas a couple of hours."
   ]
  },
  {
   "cell_type": "code",
   "execution_count": null,
   "metadata": {},
   "outputs": [],
   "source": [
    "%%bash\n",
    "# Most command-line tools like bowtie will help statements that can be accessed by \n",
    "# typing the command name with no options/parameters\n",
    "\n",
    "# cd /stor/home/pb24578/bash_lectures/unix_bowtie2/ALS_rnaseq\n",
    "# bowtie2-build"
   ]
  },
  {
   "cell_type": "code",
   "execution_count": null,
   "metadata": {},
   "outputs": [],
   "source": [
    "%%bash\n",
    "\"\"\"\n",
    "part iii) now build an index for the transcriptome because the original one was an index for the human genome\n",
    "what is a transcriptome? it's a DNA with only its exons (expressed)\n",
    "- also when it says 'how is it different from iv, the person meant part ii'\n",
    "\"\"\"\n",
    "# index the human genome reference\n",
    "# cd /stor/home/pb24578/bash_lectures/unix_bowtie2/ALS_rnaseq\n",
    "# nohup bowtie2-build Homo_sapiens.GRCh37.60.dna.fasta hg19bowtie2 &\n",
    "\n",
    "# index the transcriptome reference\n",
    "# nohup bowtie2-build gencode.v19.pc_transcripts.fa hg19transcriptomebowtie2 &"
   ]
  },
  {
   "cell_type": "code",
   "execution_count": null,
   "metadata": {},
   "outputs": [],
   "source": [
    "%%bash\n",
    "\"\"\"\n",
    "what this part does is that it maps the two sample files to the index file, and each read mapped on the genome is\n",
    "outputted as a sam file\n",
    "part ii) the timing and mapping stuff\n",
    "time this operation\n",
    "- to report the alignment statistics, they'll be in the sam file <- answer is 85.11% overall alignment rate from the nohup file\n",
    "- now read one line from the alignment, also the first couple of lines is just the header so ignore that do head -100 human_genome.sam and look at the actual reads\n",
    "\"\"\"\n",
    "# map to human genome reference and output as a SAM file\n",
    "# cd /stor/home/pb24578/bash_lectures/unix_bowtie2/ALS_rnaseq\n",
    "# nohup bowtie2 -x hg19bowtie2 -1 SRR1927019_1_sampled.fq -2 SRR1927019_2_sampled.fq -S human_genome.sam\n",
    "\n",
    "# map to transcriptome and output as a SAM file\n",
    "# nohup bowtie2 -x hg19transcriptomebowtie2 -1 SRR1927019_1_sampled.fq -2 SRR1927019_2_sampled.fq -S transcriptome.sam"
   ]
  },
  {
   "cell_type": "code",
   "execution_count": null,
   "metadata": {},
   "outputs": [],
   "source": [
    "%%bash\n",
    "ps -au pb24578 # get the process status\n",
    "kill <yourpid> # kill the process of <yourpid>\n",
    "top # displays processor activityies"
   ]
  },
  {
   "cell_type": "code",
   "execution_count": null,
   "metadata": {},
   "outputs": [],
   "source": []
  }
 ],
 "metadata": {
  "kernelspec": {
   "display_name": "Python 3",
   "language": "python",
   "name": "python3"
  },
  "language_info": {
   "codemirror_mode": {
    "name": "ipython",
    "version": 3
   },
   "file_extension": ".py",
   "mimetype": "text/x-python",
   "name": "python",
   "nbconvert_exporter": "python",
   "pygments_lexer": "ipython3",
   "version": "3.4.3"
  }
 },
 "nbformat": 4,
 "nbformat_minor": 1
}

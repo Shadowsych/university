{
 "cells": [
  {
   "cell_type": "code",
   "execution_count": 59,
   "metadata": {},
   "outputs": [
    {
     "name": "stdout",
     "output_type": "stream",
     "text": [
      "Motif TF3 found in 2 positions: [2, 13]\n"
     ]
    }
   ],
   "source": [
    "# locate the motif in a DNA sequence\n",
    "def locate_motif(dna_seq, motifs):\n",
    "    positions = {} # contains the position of a motif as a dictionary with list values\n",
    "    \n",
    "    # go through each motif for each base\n",
    "    for motif, seq in motifs.items():\n",
    "        # count the number of dna sequences that contain a motif\n",
    "        occurances = dna_seq.count(seq)\n",
    "        occurance = 0\n",
    "        skip_dna_seq = dna_seq\n",
    "        motif_positions = []\n",
    "        \n",
    "        # iterate through each occurance\n",
    "        while occurance < occurances:\n",
    "            location = (skip_dna_seq.find(seq) + 1)\n",
    "            \n",
    "            # since we're skipping the String, we need to find the real location from dna_seq\n",
    "            real_location = location + (len(dna_seq) - len(skip_dna_seq))\n",
    "            motif_positions.append(real_location)\n",
    "            \n",
    "            # modify the string so it skips this found sequence\n",
    "            skip_index = (location - 1) + len(seq)\n",
    "            skip_dna_seq = skip_dna_seq[skip_index: len(skip_dna_seq)]\n",
    "            \n",
    "            # if needed, go to the next occurance\n",
    "            occurance += 1\n",
    "            \n",
    "        # hold the positions of the motif\n",
    "        positions[motif] = motif_positions\n",
    "        \n",
    "    # pretty print the motif positions\n",
    "    def print_motif_positions():\n",
    "        for motif, seq in positions.items():\n",
    "            # only print if there is a found sequence\n",
    "            if(len(seq) > 0):\n",
    "                print(\"Motif \" + motif + \" found in \" + str(len(seq)) + \" positions: \" + str(seq))\n",
    "    print_motif_positions()\n",
    "        \n",
    "# run the program\n",
    "dna_seq = \"ATATAGATTCATTATACAG\"\n",
    "motifs = {\"TF1\": \"GACC\", \"TF2\": \"GGCC\", \"TF3\": \"TATA\"}\n",
    "locate_motif(dna_seq, motifs)\n",
    "    "
   ]
  }
 ],
 "metadata": {
  "kernelspec": {
   "display_name": "Python 3",
   "language": "python",
   "name": "python3"
  },
  "language_info": {
   "codemirror_mode": {
    "name": "ipython",
    "version": 3
   },
   "file_extension": ".py",
   "mimetype": "text/x-python",
   "name": "python",
   "nbconvert_exporter": "python",
   "pygments_lexer": "ipython3",
   "version": "3.4.3"
  }
 },
 "nbformat": 4,
 "nbformat_minor": 2
}

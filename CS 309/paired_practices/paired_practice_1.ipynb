{
 "cells": [
  {
   "cell_type": "markdown",
   "metadata": {},
   "source": [
    "# Check Validity"
   ]
  },
  {
   "cell_type": "code",
   "execution_count": 213,
   "metadata": {},
   "outputs": [],
   "source": [
    "def check_validity(dnaseq):\n",
    "    dnaseq = dnaseq.lower()\n",
    "    valids = \"actg\"\n",
    "    for base in dnaseq: #iterating through the dna sequence\n",
    "        if base in valids: #checking if base is valid\n",
    "            pass\n",
    "        else: \n",
    "            return False #base not valid\n",
    "    return True #tested every base, without returning false, so valid dna sequence"
   ]
  },
  {
   "cell_type": "code",
   "execution_count": 214,
   "metadata": {},
   "outputs": [
    {
     "data": {
      "text/plain": [
       "False"
      ]
     },
     "execution_count": 214,
     "metadata": {},
     "output_type": "execute_result"
    }
   ],
   "source": [
    "check_validity('AGTCGAB')"
   ]
  },
  {
   "cell_type": "markdown",
   "metadata": {},
   "source": [
    "# Reverse Complement"
   ]
  },
  {
   "cell_type": "code",
   "execution_count": 215,
   "metadata": {},
   "outputs": [],
   "source": [
    "def reverse_complement(dnaseq):\n",
    "    if check_validity(dnaseq): #check validity of dna sequence\n",
    "        dnaseq = dnaseq.lower()\n",
    "        #now reverse complement dna sequence\n",
    "        dnaseq= dnaseq[::-1]\n",
    "        dict = {'a': 't', 'c': 'g', 't':'a', 'g':'c'} #created a dictionary of complementary bases\n",
    "        output = ''\n",
    "        for base in dnaseq:\n",
    "            output += dict[base] #bases are adding to the output string \n",
    "        return output.upper() #the output is in upplowercase "
   ]
  },
  {
   "cell_type": "code",
   "execution_count": 216,
   "metadata": {},
   "outputs": [
    {
     "data": {
      "text/plain": [
       "'TAGTGTT'"
      ]
     },
     "execution_count": 216,
     "metadata": {},
     "output_type": "execute_result"
    }
   ],
   "source": [
    "reverse_complement('AACACTA')"
   ]
  },
  {
   "cell_type": "code",
   "execution_count": 217,
   "metadata": {},
   "outputs": [],
   "source": [
    "def quality_bases(dnaseq):\n",
    "    uDict = ['A', 'C', 'T', 'G','N'] #created a dictionary of complementary bases\n",
    "    lDict = ['a', 't', 'c', 'g','n'] #created a dictionary of complementary bases\n",
    "    uCount = 0\n",
    "    lCount = 0\n",
    "    for base in dnaseq:\n",
    "        if base in uDict:\n",
    "            uCount += 1\n",
    "        elif base in lDict:\n",
    "            lCount += 1\n",
    "    print('High quality bases: ' + str(uCount))\n",
    "    print('Low quality bases: ' + str(lCount))"
   ]
  },
  {
   "cell_type": "code",
   "execution_count": 218,
   "metadata": {},
   "outputs": [
    {
     "name": "stdout",
     "output_type": "stream",
     "text": [
      "High quality bases: 15\n",
      "Low quality bases: 21\n"
     ]
    }
   ],
   "source": [
    "quality_bases('nnATAatgGCccaaaACGTCcatagcgTCACAgtca')"
   ]
  },
  {
   "cell_type": "markdown",
   "metadata": {},
   "source": [
    "# Basic Pandas Practice"
   ]
  },
  {
   "cell_type": "code",
   "execution_count": 219,
   "metadata": {},
   "outputs": [],
   "source": [
    "import pandas as pd"
   ]
  },
  {
   "cell_type": "code",
   "execution_count": 220,
   "metadata": {
    "scrolled": true
   },
   "outputs": [
    {
     "data": {
      "text/html": [
       "<div>\n",
       "<style scoped>\n",
       "    .dataframe tbody tr th:only-of-type {\n",
       "        vertical-align: middle;\n",
       "    }\n",
       "\n",
       "    .dataframe tbody tr th {\n",
       "        vertical-align: top;\n",
       "    }\n",
       "\n",
       "    .dataframe thead th {\n",
       "        text-align: right;\n",
       "    }\n",
       "</style>\n",
       "<table border=\"1\" class=\"dataframe\">\n",
       "  <thead>\n",
       "    <tr style=\"text-align: right;\">\n",
       "      <th></th>\n",
       "      <th>age</th>\n",
       "      <th>major</th>\n",
       "      <th>name</th>\n",
       "    </tr>\n",
       "  </thead>\n",
       "  <tbody>\n",
       "    <tr>\n",
       "      <th>0</th>\n",
       "      <td>19</td>\n",
       "      <td>Bio</td>\n",
       "      <td>John Henry</td>\n",
       "    </tr>\n",
       "    <tr>\n",
       "      <th>1</th>\n",
       "      <td>18</td>\n",
       "      <td>Bio Chem and Math</td>\n",
       "      <td>Asha</td>\n",
       "    </tr>\n",
       "    <tr>\n",
       "      <th>2</th>\n",
       "      <td>19</td>\n",
       "      <td>CS</td>\n",
       "      <td>Michelle</td>\n",
       "    </tr>\n",
       "    <tr>\n",
       "      <th>3</th>\n",
       "      <td>18</td>\n",
       "      <td>CS</td>\n",
       "      <td>Pravat</td>\n",
       "    </tr>\n",
       "    <tr>\n",
       "      <th>4</th>\n",
       "      <td>19</td>\n",
       "      <td>CS</td>\n",
       "      <td>Jason</td>\n",
       "    </tr>\n",
       "  </tbody>\n",
       "</table>\n",
       "</div>"
      ],
      "text/plain": [
       "   age              major        name\n",
       "0   19                Bio  John Henry\n",
       "1   18  Bio Chem and Math        Asha\n",
       "2   19                 CS    Michelle\n",
       "3   18                 CS      Pravat\n",
       "4   19                 CS       Jason"
      ]
     },
     "execution_count": 220,
     "metadata": {},
     "output_type": "execute_result"
    }
   ],
   "source": [
    "# a dictionary of data sets to convert to tabular data\n",
    "students_db = {\n",
    "    \"name\": [\"John Henry\", \"Asha\", \"Michelle\", \"Pravat\", \"Jason\"],\n",
    "    \"major\": [\"Bio\", \"Bio Chem and Math\", \"CS\", \"CS\", \"CS\"],\n",
    "    \"age\": [19, 18, 19, 18, 19]\n",
    "}\n",
    "students = pd.DataFrame(students_db) # create a Python data frame\n",
    "students"
   ]
  },
  {
   "cell_type": "code",
   "execution_count": 221,
   "metadata": {},
   "outputs": [
    {
     "data": {
      "text/plain": [
       "(5, 3)"
      ]
     },
     "execution_count": 221,
     "metadata": {},
     "output_type": "execute_result"
    }
   ],
   "source": [
    "students.shape # print the rows and columns (dimensions)"
   ]
  },
  {
   "cell_type": "code",
   "execution_count": 222,
   "metadata": {},
   "outputs": [],
   "source": [
    "students = students.set_index(\"name\") # set the index to the name, which is the unique identifier among us"
   ]
  },
  {
   "cell_type": "code",
   "execution_count": 223,
   "metadata": {},
   "outputs": [
    {
     "data": {
      "text/plain": [
       "major    Bio Chem and Math\n",
       "age                     18\n",
       "Name: Asha, dtype: object"
      ]
     },
     "execution_count": 223,
     "metadata": {},
     "output_type": "execute_result"
    }
   ],
   "source": [
    "students.loc[\"Asha\",['major','age']]"
   ]
  },
  {
   "cell_type": "code",
   "execution_count": 224,
   "metadata": {},
   "outputs": [],
   "source": [
    "non_cs_students = students[students[\"major\"] != \"CS\"]"
   ]
  },
  {
   "cell_type": "code",
   "execution_count": 225,
   "metadata": {},
   "outputs": [],
   "source": [
    "students_classes = pd.Series([5, 5, 5, 5, 5], index=['John Henry', 'Asha', 'Michelle', 'Pravat', 'Jason'])\n",
    "students[\"classes\"] = students_classes"
   ]
  },
  {
   "cell_type": "code",
   "execution_count": 226,
   "metadata": {},
   "outputs": [
    {
     "data": {
      "text/html": [
       "<div>\n",
       "<style scoped>\n",
       "    .dataframe tbody tr th:only-of-type {\n",
       "        vertical-align: middle;\n",
       "    }\n",
       "\n",
       "    .dataframe tbody tr th {\n",
       "        vertical-align: top;\n",
       "    }\n",
       "\n",
       "    .dataframe thead th {\n",
       "        text-align: right;\n",
       "    }\n",
       "</style>\n",
       "<table border=\"1\" class=\"dataframe\">\n",
       "  <thead>\n",
       "    <tr style=\"text-align: right;\">\n",
       "      <th></th>\n",
       "      <th>age</th>\n",
       "      <th>major</th>\n",
       "    </tr>\n",
       "    <tr>\n",
       "      <th>name</th>\n",
       "      <th></th>\n",
       "      <th></th>\n",
       "    </tr>\n",
       "  </thead>\n",
       "  <tbody>\n",
       "    <tr>\n",
       "      <th>John Henry</th>\n",
       "      <td>19</td>\n",
       "      <td>Bio</td>\n",
       "    </tr>\n",
       "    <tr>\n",
       "      <th>Asha</th>\n",
       "      <td>18</td>\n",
       "      <td>Bio Chem and Math</td>\n",
       "    </tr>\n",
       "  </tbody>\n",
       "</table>\n",
       "</div>"
      ],
      "text/plain": [
       "            age              major\n",
       "name                              \n",
       "John Henry   19                Bio\n",
       "Asha         18  Bio Chem and Math"
      ]
     },
     "execution_count": 226,
     "metadata": {},
     "output_type": "execute_result"
    }
   ],
   "source": [
    "non_cs = pd.DataFrame(non_cs_students)\n",
    "non_cs"
   ]
  },
  {
   "cell_type": "markdown",
   "metadata": {},
   "source": [
    "# Top 3 3-mers in a DNA Sequence"
   ]
  },
  {
   "cell_type": "code",
   "execution_count": 227,
   "metadata": {},
   "outputs": [
    {
     "name": "stdout",
     "output_type": "stream",
     "text": [
      "       occurrences\n",
      "3-mer             \n",
      "CAC              2\n",
      "AAA              2\n",
      "TAC              1\n"
     ]
    }
   ],
   "source": [
    "# find the top 3 3-mers (3 bases) that occur the most often\n",
    "def top_3_mers(dnaseq):\n",
    "    three_mers = {}\n",
    "    \n",
    "    three_mer = 3 # a 3-mer as 3 bases\n",
    "    current_3_mer = \"\" # the current 3 base sequence\n",
    "    for base in dnaseq:\n",
    "        # add up the base to the 3-mer String\n",
    "        current_3_mer += base\n",
    "        \n",
    "        # if the current_3_mer has 3 bases\n",
    "        if len(current_3_mer) == three_mer:\n",
    "            # first check if the key doesn't exist, then set it\n",
    "            if current_3_mer not in three_mers.keys():\n",
    "                three_mers[current_3_mer] = 0\n",
    "            three_mers[current_3_mer] += 1 # increment this 3-mer's occurance\n",
    "            current_3_mer = \"\" # reset the 3-mer\n",
    "    \n",
    "    # pretty print the top 3-mers\n",
    "    def pretty_print_top_3_mers(three_mers):\n",
    "        three_mers_names = []\n",
    "        three_mers_occurrences = []\n",
    "        for three_mer, occurrences in three_mers.items():\n",
    "            # append each 3-mer name and occurrence\n",
    "            three_mers_names.append(three_mer)\n",
    "            three_mers_occurrences.append(occurrences)\n",
    "\n",
    "        # create a pandas data frame for the data-set\n",
    "        three_mers_df = pd.DataFrame({\n",
    "            \"3-mer\": three_mers_names,\n",
    "            \"occurrences\": three_mers_occurrences\n",
    "        })\n",
    "        three_mers_df = three_mers_df.set_index(\"3-mer\") # set the indexing to 3-mer\n",
    "        three_mers_df = three_mers_df.sort_values(by=[\"occurrences\"], ascending=False) # sort in-reverse\n",
    "        print(three_mers_df.head(3)) # print the top 3-mers\n",
    "        \n",
    "    # run the pretty print of the top 3-mers\n",
    "    pretty_print_top_3_mers(three_mers)\n",
    "\n",
    "# run the function\n",
    "top_3_mers(\"AAACACTAACACTACCTGAGTAAAAACACA\")      "
   ]
  }
 ],
 "metadata": {
  "kernelspec": {
   "display_name": "Python 3",
   "language": "python",
   "name": "python3"
  },
  "language_info": {
   "codemirror_mode": {
    "name": "ipython",
    "version": 3
   },
   "file_extension": ".py",
   "mimetype": "text/x-python",
   "name": "python",
   "nbconvert_exporter": "python",
   "pygments_lexer": "ipython3",
   "version": "3.4.3"
  }
 },
 "nbformat": 4,
 "nbformat_minor": 2
}

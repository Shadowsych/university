{
 "cells": [
  {
   "cell_type": "code",
   "execution_count": 46,
   "metadata": {},
   "outputs": [],
   "source": [
    "# pandas is a library written for data manipulation and analysis\n",
    "import pandas as pd"
   ]
  },
  {
   "cell_type": "markdown",
   "metadata": {},
   "source": [
    "# Walrus DataFrame"
   ]
  },
  {
   "cell_type": "code",
   "execution_count": 47,
   "metadata": {},
   "outputs": [],
   "source": [
    "# example data\n",
    "walrus_data = {\"name\": [\"Antje\", \"ET\", \"Jocko\"],\n",
    "               \"gender\": [\"Female\", \"Male\", \"Male\"],\n",
    "               \"weight\": [2000, 3400, 3000]\n",
    "              }"
   ]
  },
  {
   "cell_type": "code",
   "execution_count": 48,
   "metadata": {},
   "outputs": [],
   "source": [
    "# creating a DataFrame (a list of series) for the walrus_data using pandas\n",
    "walruses = pd.DataFrame(walrus_data)"
   ]
  },
  {
   "cell_type": "code",
   "execution_count": 49,
   "metadata": {},
   "outputs": [
    {
     "data": {
      "text/html": [
       "<div>\n",
       "<style scoped>\n",
       "    .dataframe tbody tr th:only-of-type {\n",
       "        vertical-align: middle;\n",
       "    }\n",
       "\n",
       "    .dataframe tbody tr th {\n",
       "        vertical-align: top;\n",
       "    }\n",
       "\n",
       "    .dataframe thead th {\n",
       "        text-align: right;\n",
       "    }\n",
       "</style>\n",
       "<table border=\"1\" class=\"dataframe\">\n",
       "  <thead>\n",
       "    <tr style=\"text-align: right;\">\n",
       "      <th></th>\n",
       "      <th>gender</th>\n",
       "      <th>name</th>\n",
       "      <th>weight</th>\n",
       "    </tr>\n",
       "  </thead>\n",
       "  <tbody>\n",
       "    <tr>\n",
       "      <th>0</th>\n",
       "      <td>Female</td>\n",
       "      <td>Antje</td>\n",
       "      <td>2000</td>\n",
       "    </tr>\n",
       "    <tr>\n",
       "      <th>1</th>\n",
       "      <td>Male</td>\n",
       "      <td>ET</td>\n",
       "      <td>3400</td>\n",
       "    </tr>\n",
       "    <tr>\n",
       "      <th>2</th>\n",
       "      <td>Male</td>\n",
       "      <td>Jocko</td>\n",
       "      <td>3000</td>\n",
       "    </tr>\n",
       "  </tbody>\n",
       "</table>\n",
       "</div>"
      ],
      "text/plain": [
       "   gender   name  weight\n",
       "0  Female  Antje    2000\n",
       "1    Male     ET    3400\n",
       "2    Male  Jocko    3000"
      ]
     },
     "execution_count": 49,
     "metadata": {},
     "output_type": "execute_result"
    }
   ],
   "source": [
    "# only in Jupyter notebook, returns data frames in a nice tabular form\n",
    "walruses"
   ]
  },
  {
   "cell_type": "code",
   "execution_count": 50,
   "metadata": {},
   "outputs": [
    {
     "data": {
      "text/html": [
       "<div>\n",
       "<style scoped>\n",
       "    .dataframe tbody tr th:only-of-type {\n",
       "        vertical-align: middle;\n",
       "    }\n",
       "\n",
       "    .dataframe tbody tr th {\n",
       "        vertical-align: top;\n",
       "    }\n",
       "\n",
       "    .dataframe thead th {\n",
       "        text-align: right;\n",
       "    }\n",
       "</style>\n",
       "<table border=\"1\" class=\"dataframe\">\n",
       "  <thead>\n",
       "    <tr style=\"text-align: right;\">\n",
       "      <th></th>\n",
       "      <th>gender</th>\n",
       "      <th>name</th>\n",
       "      <th>weight</th>\n",
       "    </tr>\n",
       "  </thead>\n",
       "  <tbody>\n",
       "    <tr>\n",
       "      <th>0</th>\n",
       "      <td>Female</td>\n",
       "      <td>Antje</td>\n",
       "      <td>2000</td>\n",
       "    </tr>\n",
       "    <tr>\n",
       "      <th>1</th>\n",
       "      <td>Male</td>\n",
       "      <td>ET</td>\n",
       "      <td>3400</td>\n",
       "    </tr>\n",
       "  </tbody>\n",
       "</table>\n",
       "</div>"
      ],
      "text/plain": [
       "   gender   name  weight\n",
       "0  Female  Antje    2000\n",
       "1    Male     ET    3400"
      ]
     },
     "execution_count": 50,
     "metadata": {},
     "output_type": "execute_result"
    }
   ],
   "source": [
    "# display the first two rows of the data frame\n",
    "walruses.head(2)"
   ]
  },
  {
   "cell_type": "code",
   "execution_count": 51,
   "metadata": {},
   "outputs": [
    {
     "name": "stdout",
     "output_type": "stream",
     "text": [
      "(3, 3)\n",
      "(2, 3)\n"
     ]
    }
   ],
   "source": [
    "# print a tuple of the number of rows and columns\n",
    "print(walruses.shape)\n",
    "\n",
    "# print a tuple from the first two rows, the number of rows and columns\n",
    "print(walruses.head(2).shape)"
   ]
  },
  {
   "cell_type": "code",
   "execution_count": 52,
   "metadata": {},
   "outputs": [
    {
     "name": "stdout",
     "output_type": "stream",
     "text": [
      "gender    object\n",
      "name      object\n",
      "weight     int64\n",
      "dtype: object\n"
     ]
    }
   ],
   "source": [
    "# print the data types of each row\n",
    "print(walruses.dtypes)"
   ]
  },
  {
   "cell_type": "code",
   "execution_count": 53,
   "metadata": {},
   "outputs": [
    {
     "name": "stdout",
     "output_type": "stream",
     "text": [
      "0    2000\n",
      "1    3400\n",
      "2    3000\n",
      "Name: weight, dtype: int64\n",
      "   weight   name\n",
      "0    2000  Antje\n",
      "1    3400     ET\n",
      "2    3000  Jocko\n"
     ]
    }
   ],
   "source": [
    "# print the weights of all the walruses\n",
    "print(walruses[\"weight\"])\n",
    "\n",
    "# print the weight and gender of all the walruses\n",
    "print(walruses[[\"weight\", \"name\"]])"
   ]
  },
  {
   "cell_type": "code",
   "execution_count": 54,
   "metadata": {},
   "outputs": [
    {
     "name": "stdout",
     "output_type": "stream",
     "text": [
      "Antje\n",
      "name       Antje\n",
      "gender    Female\n",
      "Name: 0, dtype: object\n",
      "    name  gender\n",
      "0  Antje  Female\n",
      "2  Jocko    Male\n"
     ]
    }
   ],
   "source": [
    "# print the name of the 0th row walrus\n",
    "print(walruses.loc[0, \"name\"])\n",
    "\n",
    "# print the name and gender of the 0th row walrus\n",
    "print(walruses.loc[0, [\"name\", \"gender\"]])\n",
    "\n",
    "# print the name and gender of the 0th and 2nd row walruses\n",
    "print(walruses.loc[[0, 2], [\"name\", \"gender\"]])"
   ]
  },
  {
   "cell_type": "markdown",
   "metadata": {},
   "source": [
    "# Indexing the Walrus DataFrame"
   ]
  },
  {
   "cell_type": "code",
   "execution_count": 55,
   "metadata": {
    "scrolled": true
   },
   "outputs": [
    {
     "data": {
      "text/plain": [
       "'\\nif you wish to reset the indexing back to row numbers, use:\\n    walruses = walruses.reset_index(\"name\")\\n'"
      ]
     },
     "execution_count": 55,
     "metadata": {},
     "output_type": "execute_result"
    }
   ],
   "source": [
    "# the index for walruses becomes the \"name\" column\n",
    "walruses = walruses.set_index(\"name\")\n",
    "\n",
    "\"\"\"\n",
    "if you wish to reset the indexing back to row numbers, use:\n",
    "    walruses = walruses.reset_index(\"name\")\n",
    "\"\"\""
   ]
  },
  {
   "cell_type": "code",
   "execution_count": 56,
   "metadata": {},
   "outputs": [
    {
     "data": {
      "text/plain": [
       "gender    Female\n",
       "weight      2000\n",
       "Name: Antje, dtype: object"
      ]
     },
     "execution_count": 56,
     "metadata": {},
     "output_type": "execute_result"
    }
   ],
   "source": [
    "# return the Antje row\n",
    "walruses.loc[\"Antje\"]\n",
    "\n",
    "# return the 0th row (Antje row)\n",
    "walruses.iloc[0]"
   ]
  },
  {
   "cell_type": "code",
   "execution_count": 57,
   "metadata": {},
   "outputs": [],
   "source": [
    "# set all the walruses' genders to Female\n",
    "walruses[\"gender\"] = \"Female\"\n",
    "\n",
    "# add all the walruses' weight by one\n",
    "walruses[\"weight\"] += 1"
   ]
  },
  {
   "cell_type": "markdown",
   "metadata": {},
   "source": [
    "# Series and The Walrus DataFrame"
   ]
  },
  {
   "cell_type": "code",
   "execution_count": 58,
   "metadata": {},
   "outputs": [],
   "source": [
    "# create a new panda Series data-type\n",
    "walruses_food_consumption = pd.Series([60, 150], index=[\"Antje\", \"ET\"])"
   ]
  },
  {
   "cell_type": "code",
   "execution_count": 59,
   "metadata": {},
   "outputs": [
    {
     "data": {
      "text/plain": [
       "Antje     60\n",
       "ET       150\n",
       "dtype: int64"
      ]
     },
     "execution_count": 59,
     "metadata": {},
     "output_type": "execute_result"
    }
   ],
   "source": [
    "# return the Series in a simple table form\n",
    "walruses_food_consumption"
   ]
  },
  {
   "cell_type": "code",
   "execution_count": 60,
   "metadata": {},
   "outputs": [
    {
     "data": {
      "text/html": [
       "<div>\n",
       "<style scoped>\n",
       "    .dataframe tbody tr th:only-of-type {\n",
       "        vertical-align: middle;\n",
       "    }\n",
       "\n",
       "    .dataframe tbody tr th {\n",
       "        vertical-align: top;\n",
       "    }\n",
       "\n",
       "    .dataframe thead th {\n",
       "        text-align: right;\n",
       "    }\n",
       "</style>\n",
       "<table border=\"1\" class=\"dataframe\">\n",
       "  <thead>\n",
       "    <tr style=\"text-align: right;\">\n",
       "      <th></th>\n",
       "      <th>gender</th>\n",
       "      <th>weight</th>\n",
       "      <th>weight_today</th>\n",
       "    </tr>\n",
       "    <tr>\n",
       "      <th>name</th>\n",
       "      <th></th>\n",
       "      <th></th>\n",
       "      <th></th>\n",
       "    </tr>\n",
       "  </thead>\n",
       "  <tbody>\n",
       "    <tr>\n",
       "      <th>Antje</th>\n",
       "      <td>Female</td>\n",
       "      <td>2001</td>\n",
       "      <td>2061.0</td>\n",
       "    </tr>\n",
       "    <tr>\n",
       "      <th>ET</th>\n",
       "      <td>Female</td>\n",
       "      <td>3401</td>\n",
       "      <td>3551.0</td>\n",
       "    </tr>\n",
       "    <tr>\n",
       "      <th>Jocko</th>\n",
       "      <td>Female</td>\n",
       "      <td>3001</td>\n",
       "      <td>5000.0</td>\n",
       "    </tr>\n",
       "  </tbody>\n",
       "</table>\n",
       "</div>"
      ],
      "text/plain": [
       "       gender  weight  weight_today\n",
       "name                               \n",
       "Antje  Female    2001        2061.0\n",
       "ET     Female    3401        3551.0\n",
       "Jocko  Female    3001        5000.0"
      ]
     },
     "execution_count": 60,
     "metadata": {},
     "output_type": "execute_result"
    }
   ],
   "source": [
    "# add the values in the walruses_food_consumption Series to walruses' weight\n",
    "walrus_weight_today = walruses[\"weight\"] + walruses_food_consumption\n",
    "\n",
    "# set any NaN values to 5000 that the walruses_food_consumption Series did not have an index for\n",
    "walrus_weight_today.fillna(5000, inplace=True)\n",
    "\n",
    "# now create and set a new the walruses' weight_today column to the walrus weight today varaible\n",
    "walruses[\"weight_today\"] = walrus_weight_today\n",
    "\n",
    "# display the walruses' tabular data\n",
    "walruses"
   ]
  },
  {
   "cell_type": "code",
   "execution_count": null,
   "metadata": {},
   "outputs": [],
   "source": []
  }
 ],
 "metadata": {
  "kernelspec": {
   "display_name": "Python 3",
   "language": "python",
   "name": "python3"
  },
  "language_info": {
   "codemirror_mode": {
    "name": "ipython",
    "version": 3
   },
   "file_extension": ".py",
   "mimetype": "text/x-python",
   "name": "python",
   "nbconvert_exporter": "python",
   "pygments_lexer": "ipython3",
   "version": "3.4.3"
  }
 },
 "nbformat": 4,
 "nbformat_minor": 2
}

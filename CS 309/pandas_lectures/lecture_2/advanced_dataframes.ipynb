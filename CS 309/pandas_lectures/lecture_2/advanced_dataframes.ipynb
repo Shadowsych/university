{
 "cells": [
  {
   "cell_type": "code",
   "execution_count": 434,
   "metadata": {},
   "outputs": [],
   "source": [
    "# import pandas, numpy, math\n",
    "import pandas as pd\n",
    "import numpy as np"
   ]
  },
  {
   "cell_type": "markdown",
   "metadata": {},
   "source": [
    "# Continue The Walrus DataFrame"
   ]
  },
  {
   "cell_type": "code",
   "execution_count": 435,
   "metadata": {},
   "outputs": [],
   "source": [
    "# example data from lecture 1, re-using it in lecture2\n",
    "walrus_data = {\"name\": [\"Antje\", \"ET\", \"Jocko\"],\n",
    "               \"gender\": [\"Female\", \"Male\", \"Male\"],\n",
    "               \"weight\": [2000, 3400, 3000]\n",
    "              }\n",
    "walruses = pd.DataFrame(walrus_data)"
   ]
  },
  {
   "cell_type": "code",
   "execution_count": 436,
   "metadata": {},
   "outputs": [
    {
     "data": {
      "text/html": [
       "<div>\n",
       "<style scoped>\n",
       "    .dataframe tbody tr th:only-of-type {\n",
       "        vertical-align: middle;\n",
       "    }\n",
       "\n",
       "    .dataframe tbody tr th {\n",
       "        vertical-align: top;\n",
       "    }\n",
       "\n",
       "    .dataframe thead th {\n",
       "        text-align: right;\n",
       "    }\n",
       "</style>\n",
       "<table border=\"1\" class=\"dataframe\">\n",
       "  <thead>\n",
       "    <tr style=\"text-align: right;\">\n",
       "      <th></th>\n",
       "      <th>gender</th>\n",
       "      <th>name</th>\n",
       "      <th>weight</th>\n",
       "    </tr>\n",
       "  </thead>\n",
       "  <tbody>\n",
       "    <tr>\n",
       "      <th>0</th>\n",
       "      <td>Female</td>\n",
       "      <td>Antje</td>\n",
       "      <td>2000</td>\n",
       "    </tr>\n",
       "  </tbody>\n",
       "</table>\n",
       "</div>"
      ],
      "text/plain": [
       "   gender   name  weight\n",
       "0  Female  Antje    2000"
      ]
     },
     "execution_count": 436,
     "metadata": {},
     "output_type": "execute_result"
    }
   ],
   "source": [
    "# returns if each row in the gender column is a Female\n",
    "walruses[\"gender\"] == \"Female\"\n",
    "\n",
    "# actually store if the gender is a Female as a Series\n",
    "walrus_is_female = walruses[\"gender\"] == \"Female\"\n",
    "\n",
    "# return the rows where the walruses are Female\n",
    "walruses[walrus_is_female]"
   ]
  },
  {
   "cell_type": "code",
   "execution_count": 437,
   "metadata": {
    "scrolled": true
   },
   "outputs": [
    {
     "data": {
      "text/html": [
       "<div>\n",
       "<style scoped>\n",
       "    .dataframe tbody tr th:only-of-type {\n",
       "        vertical-align: middle;\n",
       "    }\n",
       "\n",
       "    .dataframe tbody tr th {\n",
       "        vertical-align: top;\n",
       "    }\n",
       "\n",
       "    .dataframe thead th {\n",
       "        text-align: right;\n",
       "    }\n",
       "</style>\n",
       "<table border=\"1\" class=\"dataframe\">\n",
       "  <thead>\n",
       "    <tr style=\"text-align: right;\">\n",
       "      <th></th>\n",
       "      <th>gender</th>\n",
       "      <th>name</th>\n",
       "      <th>weight</th>\n",
       "    </tr>\n",
       "  </thead>\n",
       "  <tbody>\n",
       "    <tr>\n",
       "      <th>1</th>\n",
       "      <td>Male</td>\n",
       "      <td>ET</td>\n",
       "      <td>3400</td>\n",
       "    </tr>\n",
       "    <tr>\n",
       "      <th>2</th>\n",
       "      <td>Male</td>\n",
       "      <td>Jocko</td>\n",
       "      <td>3000</td>\n",
       "    </tr>\n",
       "  </tbody>\n",
       "</table>\n",
       "</div>"
      ],
      "text/plain": [
       "  gender   name  weight\n",
       "1   Male     ET    3400\n",
       "2   Male  Jocko    3000"
      ]
     },
     "execution_count": 437,
     "metadata": {},
     "output_type": "execute_result"
    }
   ],
   "source": [
    "# get a Series where each row in the weight column is greater than 2500 and (bit-wise operator) are Male\n",
    "male_walrus_is_greater_2500 = (walruses[\"weight\"] > 2500) & (walruses[\"gender\"] == \"Male\")\n",
    "\n",
    "# return the rows where the male walruses are greater than 2500\n",
    "walruses[male_walrus_is_greater_2500]"
   ]
  },
  {
   "cell_type": "markdown",
   "metadata": {},
   "source": [
    "# Ghosts DataFrame"
   ]
  },
  {
   "cell_type": "code",
   "execution_count": 438,
   "metadata": {},
   "outputs": [
    {
     "data": {
      "text/html": [
       "<div>\n",
       "<style scoped>\n",
       "    .dataframe tbody tr th:only-of-type {\n",
       "        vertical-align: middle;\n",
       "    }\n",
       "\n",
       "    .dataframe tbody tr th {\n",
       "        vertical-align: top;\n",
       "    }\n",
       "\n",
       "    .dataframe thead th {\n",
       "        text-align: right;\n",
       "    }\n",
       "</style>\n",
       "<table border=\"1\" class=\"dataframe\">\n",
       "  <thead>\n",
       "    <tr style=\"text-align: right;\">\n",
       "      <th></th>\n",
       "      <th>dots_eaten</th>\n",
       "      <th>pacmen_eaten</th>\n",
       "    </tr>\n",
       "  </thead>\n",
       "  <tbody>\n",
       "    <tr>\n",
       "      <th>Inky</th>\n",
       "      <td>4</td>\n",
       "      <td>2</td>\n",
       "    </tr>\n",
       "    <tr>\n",
       "      <th>Blinky</th>\n",
       "      <td>4</td>\n",
       "      <td>7</td>\n",
       "    </tr>\n",
       "    <tr>\n",
       "      <th>Pinky</th>\n",
       "      <td>7</td>\n",
       "      <td>4</td>\n",
       "    </tr>\n",
       "    <tr>\n",
       "      <th>Sue</th>\n",
       "      <td>7</td>\n",
       "      <td>5</td>\n",
       "    </tr>\n",
       "  </tbody>\n",
       "</table>\n",
       "</div>"
      ],
      "text/plain": [
       "        dots_eaten  pacmen_eaten\n",
       "Inky             4             2\n",
       "Blinky           4             7\n",
       "Pinky            7             4\n",
       "Sue              7             5"
      ]
     },
     "execution_count": 438,
     "metadata": {},
     "output_type": "execute_result"
    }
   ],
   "source": [
    "# Create a Ghosts DataFrame with random integers in the Matrix using numpy\n",
    "ghosts = pd.DataFrame(np.random.randint(1, 8, (4, 2)), index=[\"Inky\", \"Blinky\", \"Pinky\", \"Sue\"],\n",
    "                      columns=[\"dots_eaten\", \"pacmen_eaten\"])\n",
    "\n",
    "# return the ghosts DataFrame\n",
    "ghosts"
   ]
  },
  {
   "cell_type": "code",
   "execution_count": 439,
   "metadata": {},
   "outputs": [
    {
     "data": {
      "text/plain": [
       "Inky      1.414214\n",
       "Blinky    2.645751\n",
       "Pinky     2.000000\n",
       "Sue       2.236068\n",
       "Name: pacmen_eaten, dtype: float64"
      ]
     },
     "execution_count": 439,
     "metadata": {},
     "output_type": "execute_result"
    }
   ],
   "source": [
    "# set the pacmen_eaten column to its square roots\n",
    "ghosts[\"pacmen_eaten\"] = np.sqrt(ghosts[\"pacmen_eaten\"])\n",
    "\n",
    "\"\"\"\n",
    "You can also use the math module and apply the sqrt:\n",
    "    import math\n",
    "    ghosts[\"pacmen_eaten\"] = ghosts[\"pacmen_eaten\"].apply(math.sqrt)\n",
    "\"\"\"\n",
    "\n",
    "# return the pacmen_eaten column\n",
    "ghosts[\"pacmen_eaten\"]"
   ]
  },
  {
   "cell_type": "markdown",
   "metadata": {},
   "source": [
    "# String Methods and CSV Files"
   ]
  },
  {
   "cell_type": "code",
   "execution_count": 440,
   "metadata": {},
   "outputs": [],
   "source": [
    "\"\"\"\n",
    "read the csv file called walrus_vocalizations, separate white space as tab (tsv files are\n",
    "separated by tabs), and set the column names to \"name\" and \"sound\"\n",
    "\"\"\"\n",
    "walrus_sounds = pd.read_csv(\"walrus_vocalizations.tsv\", sep=\"\\t\", names=[\"name\", \"sound\"])"
   ]
  },
  {
   "cell_type": "code",
   "execution_count": 441,
   "metadata": {},
   "outputs": [
    {
     "data": {
      "text/plain": [
       "0         lound grunt\n",
       "1             whistle\n",
       "2          soft grunt\n",
       "3             chortle\n",
       "4             chortle\n",
       "5    piercing whistle\n",
       "6        medium_grunt\n",
       "7              bellow\n",
       "Name: sound, dtype: object"
      ]
     },
     "execution_count": 441,
     "metadata": {},
     "output_type": "execute_result"
    }
   ],
   "source": [
    "# cast case all the object data-types in the sound column, then make them lowercase\n",
    "walrus_sounds[\"sound\"] = walrus_sounds[\"sound\"].str.lower()\n",
    "\n",
    "# return the walrus_sounds' sound column\n",
    "walrus_sounds[\"sound\"]"
   ]
  },
  {
   "cell_type": "code",
   "execution_count": 442,
   "metadata": {},
   "outputs": [
    {
     "data": {
      "text/html": [
       "<div>\n",
       "<style scoped>\n",
       "    .dataframe tbody tr th:only-of-type {\n",
       "        vertical-align: middle;\n",
       "    }\n",
       "\n",
       "    .dataframe tbody tr th {\n",
       "        vertical-align: top;\n",
       "    }\n",
       "\n",
       "    .dataframe thead th {\n",
       "        text-align: right;\n",
       "    }\n",
       "</style>\n",
       "<table border=\"1\" class=\"dataframe\">\n",
       "  <thead>\n",
       "    <tr style=\"text-align: right;\">\n",
       "      <th></th>\n",
       "      <th>name</th>\n",
       "      <th>sound</th>\n",
       "    </tr>\n",
       "  </thead>\n",
       "  <tbody>\n",
       "    <tr>\n",
       "      <th>0</th>\n",
       "      <td>Antje</td>\n",
       "      <td>lound grunt</td>\n",
       "    </tr>\n",
       "    <tr>\n",
       "      <th>2</th>\n",
       "      <td>Jocko</td>\n",
       "      <td>soft grunt</td>\n",
       "    </tr>\n",
       "    <tr>\n",
       "      <th>6</th>\n",
       "      <td>ET</td>\n",
       "      <td>medium_grunt</td>\n",
       "    </tr>\n",
       "  </tbody>\n",
       "</table>\n",
       "</div>"
      ],
      "text/plain": [
       "    name         sound\n",
       "0  Antje   lound grunt\n",
       "2  Jocko    soft grunt\n",
       "6     ET  medium_grunt"
      ]
     },
     "execution_count": 442,
     "metadata": {},
     "output_type": "execute_result"
    }
   ],
   "source": [
    "# get a Series of walrus_sounds' sound columns that contain a grunt\n",
    "grunts = walrus_sounds[\"sound\"].str.contains(\"grunt\")\n",
    "\n",
    "# return all the walruses that make a grunt sound\n",
    "walrus_sounds[grunts]"
   ]
  }
 ],
 "metadata": {
  "kernelspec": {
   "display_name": "Python 3",
   "language": "python",
   "name": "python3"
  },
  "language_info": {
   "codemirror_mode": {
    "name": "ipython",
    "version": 3
   },
   "file_extension": ".py",
   "mimetype": "text/x-python",
   "name": "python",
   "nbconvert_exporter": "python",
   "pygments_lexer": "ipython3",
   "version": "3.4.3"
  }
 },
 "nbformat": 4,
 "nbformat_minor": 2
}
